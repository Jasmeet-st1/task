{
  "nbformat": 4,
  "nbformat_minor": 0,
  "metadata": {
    "colab": {
      "provenance": [],
      "toc_visible": true,
      "authorship_tag": "ABX9TyO2entB0uchWKYUAfl2zN2x",
      "include_colab_link": true
    },
    "kernelspec": {
      "name": "python3",
      "display_name": "Python 3"
    },
    "language_info": {
      "name": "python"
    }
  },
  "cells": [
    {
      "cell_type": "markdown",
      "metadata": {
        "id": "view-in-github",
        "colab_type": "text"
      },
      "source": [
        "<a href=\"https://colab.research.google.com/github/Jasmeet-st1/task/blob/main/Task.ipynb\" target=\"_parent\"><img src=\"https://colab.research.google.com/assets/colab-badge.svg\" alt=\"Open In Colab\"/></a>"
      ]
    },
    {
      "cell_type": "code",
      "execution_count": null,
      "metadata": {
        "colab": {
          "base_uri": "https://localhost:8080/"
        },
        "id": "kzHZt-c5DAAN",
        "outputId": "e3032e32-704d-4e27-bb91-b45e3d67d4d0"
      },
      "outputs": [
        {
          "output_type": "stream",
          "name": "stdout",
          "text": [
            "Requirement already satisfied: pandas in /usr/local/lib/python3.10/dist-packages (1.5.3)\n",
            "Requirement already satisfied: python-dateutil>=2.8.1 in /usr/local/lib/python3.10/dist-packages (from pandas) (2.8.2)\n",
            "Requirement already satisfied: pytz>=2020.1 in /usr/local/lib/python3.10/dist-packages (from pandas) (2023.3.post1)\n",
            "Requirement already satisfied: numpy>=1.21.0 in /usr/local/lib/python3.10/dist-packages (from pandas) (1.23.5)\n",
            "Requirement already satisfied: six>=1.5 in /usr/local/lib/python3.10/dist-packages (from python-dateutil>=2.8.1->pandas) (1.16.0)\n"
          ]
        }
      ],
      "source": [
        "pip install pandas\n"
      ]
    },
    {
      "cell_type": "code",
      "source": [
        "import pandas as pd\n",
        "\n",
        "# Specify the path to your Excel file\n",
        "excel_file_path = './Assignment_Timecard.xlsx'\n",
        "\n",
        "# Read the Excel file into a pandas DataFrame\n",
        "df = pd.read_excel(excel_file_path)\n",
        "\n",
        "# Print the entire DataFrame\n",
        "# print(df);\n",
        "\n",
        "def extract_hour(time_str):\n",
        "    if time_str and ':' in time_str:\n",
        "        try:\n",
        "            hours = int(time_str.split(':')[0])\n",
        "            return hours\n",
        "        except ValueError:\n",
        "            # Handle invalid time format (e.g., non-numeric hour)\n",
        "            return None\n",
        "    else:\n",
        "        # Handle empty or invalid time format\n",
        "        return None\n",
        "\n",
        "defh = df['Timecard Hours (as Time)'].astype(str).apply(extract_hour);\n",
        "filtered_names = df.loc[defh is not None and defh > 14, 'Employee Name'].tolist()\n",
        "# filtered_names = df.loc[defh is not None and defh > 14, 'Timecard Hours (as Time)'].tolist()\n",
        "# filtered = df.loc[defh is not None and defh > 14, 'Employee Name']\n",
        "fn=(list(set(filtered_names)))\n",
        "abc=df.loc[:,\"Timecard Hours (as Time)\"]\n",
        "print(fn)"
      ],
      "metadata": {
        "colab": {
          "base_uri": "https://localhost:8080/"
        },
        "id": "_6N3rAocDbjp",
        "outputId": "f809fd1b-f1c3-4057-e841-9263ed22fa55"
      },
      "execution_count": null,
      "outputs": [
        {
          "output_type": "stream",
          "name": "stdout",
          "text": [
            "['DeXgadiXXE REdarMe, ChrisMiaW S']\n"
          ]
        }
      ]
    }
  ]
}