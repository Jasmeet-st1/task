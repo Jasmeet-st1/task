{
  "nbformat": 4,
  "nbformat_minor": 0,
  "metadata": {
    "colab": {
      "provenance": [],
      "toc_visible": true,
      "authorship_tag": "ABX9TyPj+YM+ejhTttOtcXqDpk0s",
      "include_colab_link": true
    },
    "kernelspec": {
      "name": "python3",
      "display_name": "Python 3"
    },
    "language_info": {
      "name": "python"
    }
  },
  "cells": [
    {
      "cell_type": "markdown",
      "metadata": {
        "id": "view-in-github",
        "colab_type": "text"
      },
      "source": [
        "<a href=\"https://colab.research.google.com/github/Jasmeet-st1/task/blob/main/Task.ipynb\" target=\"_parent\"><img src=\"https://colab.research.google.com/assets/colab-badge.svg\" alt=\"Open In Colab\"/></a>"
      ]
    },
    {
      "cell_type": "code",
      "execution_count": null,
      "metadata": {
        "colab": {
          "base_uri": "https://localhost:8080/"
        },
        "id": "kzHZt-c5DAAN",
        "outputId": "e3032e32-704d-4e27-bb91-b45e3d67d4d0"
      },
      "outputs": [
        {
          "output_type": "stream",
          "name": "stdout",
          "text": [
            "Requirement already satisfied: pandas in /usr/local/lib/python3.10/dist-packages (1.5.3)\n",
            "Requirement already satisfied: python-dateutil>=2.8.1 in /usr/local/lib/python3.10/dist-packages (from pandas) (2.8.2)\n",
            "Requirement already satisfied: pytz>=2020.1 in /usr/local/lib/python3.10/dist-packages (from pandas) (2023.3.post1)\n",
            "Requirement already satisfied: numpy>=1.21.0 in /usr/local/lib/python3.10/dist-packages (from pandas) (1.23.5)\n",
            "Requirement already satisfied: six>=1.5 in /usr/local/lib/python3.10/dist-packages (from python-dateutil>=2.8.1->pandas) (1.16.0)\n"
          ]
        }
      ],
      "source": [
        "pip install pandas\n"
      ]
    },
    {
      "cell_type": "code",
      "source": [
        "import pandas as pd\n",
        "\n",
        "# Specify the path to your Excel file\n",
        "excel_file_path = './Assignment_Timecard.xlsx'\n",
        "\n",
        "# Read the Excel file into a pandas DataFrame\n",
        "df = pd.read_excel(excel_file_path)\n",
        "\n",
        "# Print the entire DataFrame\n",
        "# print(df);\n",
        "\n",
        "\n",
        "##################################################################################################################\n",
        "\n",
        "df['Time'] = pd.to_datetime(df['Time'], format='%m-%d-%Y %I:%M %p')\n",
        "df['Time Out'] = pd.to_datetime(df['Time Out'], format='%m-%d-%Y %I:%M %p')\n",
        "\n",
        "# Calculate the consecutive days worked for each employee\n",
        "df['Consecutive Days'] = (df.groupby('Employee Name')['Time']\n",
        "                          .diff()\n",
        "                          .fillna(pd.Timedelta(seconds=0))\n",
        "                          .eq(pd.Timedelta(days=1))\n",
        "                          .astype(int)\n",
        "                          .groupby(df['Employee Name'])\n",
        "                          .cumsum())\n",
        "\n",
        "# Filter employees who have worked exactly 7 consecutive days without a gap\n",
        "employees_7_days = df.loc[df['Consecutive Days'] >= 7, 'Employee Name'].unique()\n",
        "\n",
        "print(\"1) Employees who worked for 7 consecutive days:\")\n",
        "print(employees_7_days)\n",
        "\n",
        "\n",
        "\n",
        "\n",
        "###################################################################################################\n",
        "\n",
        "\n",
        "df['Time'] = pd.to_datetime(df['Time'], format='%m-%d-%Y %I:%M %p')\n",
        "df['Time Out'] = pd.to_datetime(df['Time Out'], format='%m-%d-%Y %I:%M %p')\n",
        "\n",
        "# Sort the data by 'Employee Name' and 'Time'\n",
        "# df.sort_values(by=['Employee Name', 'Time'], inplace=True)\n",
        "\n",
        "# Calculate time differences between 'Time Out' and the next adjacent 'Time' for the same employee\n",
        "df['Time Difference'] = (df.groupby('Employee Name')['Time']\n",
        "                         .shift(-1) - df['Time Out']).dt.total_seconds() / 3600  # Convert seconds to hours\n",
        "\n",
        "# Filter data where time difference falls between 1 and 10 hours\n",
        "filtered_data = df.loc[(df['Time Difference'] >= 1) & (df['Time Difference'] <= 10)]\n",
        "\n",
        "# Get distinct employees' names meeting the criteria\n",
        "distinct_employees = filtered_data['Employee Name'].unique()\n",
        "\n",
        "print(\"2) who have less than 10 hours of time between shifts but greater than 1 hour: \")\n",
        "print(distinct_employees)\n",
        "\n",
        "#######################################################################################################A\n",
        "## 3rd part\n",
        "\n",
        "def extract_hour(time_str):\n",
        "    if time_str and ':' in time_str:\n",
        "        try:\n",
        "            hours = int(time_str.split(':')[0])\n",
        "            return hours\n",
        "        except ValueError:\n",
        "            # Handle invalid time format (e.g., non-numeric hour)\n",
        "            return None\n",
        "    else:\n",
        "        # Handle empty or invalid time format\n",
        "        return None\n",
        "\n",
        "defh = df['Timecard Hours (as Time)'].astype(str).apply(extract_hour);\n",
        "filtered_names = df.loc[defh is not None and defh > 14, 'Employee Name'].tolist()\n",
        "# filtered_names = df.loc[defh is not None and defh > 14, 'Timecard Hours (as Time)'].tolist()\n",
        "# filtered = df.loc[defh is not None and defh > 14, 'Employee Name']\n",
        "fn=(list(set(filtered_names)))\n",
        "abc=df.loc[:,\"Timecard Hours (as Time)\"]\n",
        "print(\"3) Who has worked for more than 14 hours in a single shift \");\n",
        "print(fn)\n",
        "\n"
      ],
      "metadata": {
        "colab": {
          "base_uri": "https://localhost:8080/"
        },
        "id": "_6N3rAocDbjp",
        "outputId": "0d52e6c3-309f-47ef-b888-399dac9e3dae"
      },
      "execution_count": 22,
      "outputs": [
        {
          "output_type": "stream",
          "name": "stdout",
          "text": [
            "1) Employees who worked for 7 consecutive days:\n",
            "[]\n",
            "2) who have less than 10 hours of time between shifts but greater than 1 hour: \n",
            "['CaMaXaWE, CeghaW' 'Xee, XaCar' 'De Xa Cerda, IgWaciE' 'MraW, WiXXiaC Ha'\n",
            " 'CEreira Jr, JEse' 'GAeWdia, JAaW CarXEs' 'GrACfieXd, CErWeXiAs'\n",
            " 'DeXgadiXXE REdarMe, ChrisMiaW S' 'HaCiXMEW, DeaWMe DevEW'\n",
            " 'REdrigAez, GraWdEW AWgeX']\n",
            "3) Who has worked for more than 14 hours in a single shift \n",
            "['DeXgadiXXE REdarMe, ChrisMiaW S']\n"
          ]
        }
      ]
    }
  ]
}